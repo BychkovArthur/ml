{
 "cells": [
  {
   "cell_type": "code",
   "execution_count": 1,
   "id": "cdaa2015-5639-4177-920e-d57eda3de8f2",
   "metadata": {},
   "outputs": [],
   "source": [
    "import pandas as pd\n",
    "import numpy as np\n",
    "import matplotlib.pyplot as plt\n",
    "import seaborn as sns\n",
    "from haversine import haversine, Unit\n",
    "from sklearn.model_selection import train_test_split\n",
    "from sklearn.model_selection import GridSearchCV\n",
    "from sklearn.preprocessing import StandardScaler\n",
    "from sklearn.linear_model import Lasso\n",
    "from sklearn.metrics import mean_squared_error\n",
    "from sklearn.model_selection import train_test_split\n"
   ]
  },
  {
   "cell_type": "markdown",
   "id": "497fe820-a905-4a02-8ee7-563216cf48cf",
   "metadata": {},
   "source": [
    "<span style=\"color:red; font-size: 24px;\">\n",
    "Этапы выполнения Л/Р:\n",
    "    \n",
    "1) Изучение структуры данных, работа с пропусками, приведение к удобным для обработки типам данных\n",
    "2) Анализ целевой переменной, работа с выбросами\n",
    "3) Анализ влияния переменных на таргет\n",
    "4) Кодирование категориальных переменных и feachure engeneering\n",
    "5) Стандартизация данных\n",
    "6) Обучение модели, подбор гиперпараметров\n",
    "7) Применение на тестовой выборке и получение submission.csv\n",
    "    \n",
    "</span>"
   ]
  },
  {
   "cell_type": "markdown",
   "id": "c10ed367-0f36-47c9-9084-677a112e35e5",
   "metadata": {},
   "source": [
    "**Откроем датасеты**"
   ]
  },
  {
   "cell_type": "code",
   "execution_count": 3,
   "id": "034f8c23-73fb-43f1-90f3-253ee5201775",
   "metadata": {},
   "outputs": [],
   "source": [
    "train = pd.read_csv('train.csv')\n",
    "test = pd.read_csv('test.csv')"
   ]
  },
  {
   "cell_type": "code",
   "execution_count": null,
   "id": "3255e9bf-2dae-4b08-a7f2-94f9a8fbe691",
   "metadata": {},
   "outputs": [],
   "source": []
  },
  {
   "cell_type": "markdown",
   "id": "ab846d6d-d0ec-47f7-a727-d31d1333bfb0",
   "metadata": {},
   "source": [
    "**Посмотрим пропущенные значения и структуру данных**"
   ]
  },
  {
   "cell_type": "code",
   "execution_count": 4,
   "id": "cc93557a-6c91-485e-9a2d-4b80157df8f8",
   "metadata": {},
   "outputs": [
    {
     "name": "stdout",
     "output_type": "stream",
     "text": [
      "id                    0\n",
      "vendor_id             0\n",
      "pickup_datetime       0\n",
      "dropoff_datetime      0\n",
      "passenger_count       0\n",
      "pickup_longitude      0\n",
      "pickup_latitude       0\n",
      "dropoff_longitude     0\n",
      "dropoff_latitude      0\n",
      "store_and_fwd_flag    0\n",
      "trip_duration         0\n",
      "dtype: int64 \n",
      "\n",
      " id                    0\n",
      "vendor_id             0\n",
      "pickup_datetime       0\n",
      "passenger_count       0\n",
      "pickup_longitude      0\n",
      "pickup_latitude       0\n",
      "dropoff_longitude     0\n",
      "dropoff_latitude      0\n",
      "store_and_fwd_flag    0\n",
      "dtype: int64\n"
     ]
    }
   ],
   "source": [
    "print(train.isna().sum(), '\\n\\n', test.isna().sum())"
   ]
  },
  {
   "cell_type": "markdown",
   "id": "aaf2e30d-5abd-481a-80a9-5b748fc45a9e",
   "metadata": {},
   "source": [
    "В данных нет пропусков"
   ]
  },
  {
   "cell_type": "code",
   "execution_count": 5,
   "id": "6400236e-8c58-4608-8b33-dbfe6a118fd2",
   "metadata": {},
   "outputs": [
    {
     "data": {
      "text/plain": [
       "(id                     object\n",
       " vendor_id               int64\n",
       " pickup_datetime        object\n",
       " dropoff_datetime       object\n",
       " passenger_count         int64\n",
       " pickup_longitude      float64\n",
       " pickup_latitude       float64\n",
       " dropoff_longitude     float64\n",
       " dropoff_latitude      float64\n",
       " store_and_fwd_flag     object\n",
       " trip_duration           int64\n",
       " dtype: object,\n",
       " id                     object\n",
       " vendor_id               int64\n",
       " pickup_datetime        object\n",
       " passenger_count         int64\n",
       " pickup_longitude      float64\n",
       " pickup_latitude       float64\n",
       " dropoff_longitude     float64\n",
       " dropoff_latitude      float64\n",
       " store_and_fwd_flag     object\n",
       " dtype: object)"
      ]
     },
     "execution_count": 5,
     "metadata": {},
     "output_type": "execute_result"
    }
   ],
   "source": [
    "train.dtypes, test.dtypes"
   ]
  },
  {
   "cell_type": "markdown",
   "id": "4abb0d03-e1eb-4f77-bce0-60ec35d376bb",
   "metadata": {},
   "source": [
    "В тренировочных данных есть столбец `dropoff_datetime`. Его нет в тестовых данных, т.е по нему нельзя делать предсказания. А так же он вместе с `pickup_datetime` содержит информацию о времени поездки, поэтому нужно удалить время высадки. "
   ]
  },
  {
   "cell_type": "markdown",
   "id": "e819445a-0bb9-4a05-a67d-bb10e45b794a",
   "metadata": {},
   "source": [
    "Колонка `pickup_datetime` представлена в виде объекта. Её следует преобразовать в тип `pd.datetime` для последующего извлечения из нее информативных признаков"
   ]
  },
  {
   "cell_type": "code",
   "execution_count": 6,
   "id": "10a2de2f-82d9-459f-b92e-2d7afd6e0265",
   "metadata": {},
   "outputs": [],
   "source": [
    "train.drop(['dropoff_datetime'], axis=1, inplace= True)\n",
    "train['pickup_datetime'] = pd.to_datetime(train['pickup_datetime'])"
   ]
  },
  {
   "cell_type": "code",
   "execution_count": null,
   "id": "30f134ae-9ed3-4f9b-94aa-1fa1ac397ef1",
   "metadata": {},
   "outputs": [],
   "source": []
  },
  {
   "cell_type": "markdown",
   "id": "d3291bb2-53e9-437f-bfae-60738d597820",
   "metadata": {},
   "source": [
    "**Проанализируем целевую переменную**"
   ]
  },
  {
   "cell_type": "code",
   "execution_count": 7,
   "id": "185d48f7-c336-43fa-a30f-15f58d6dca58",
   "metadata": {},
   "outputs": [
    {
     "data": {
      "text/plain": [
       "Text(0.5, 1.0, 'Distribution of a target (trip_duration)')"
      ]
     },
     "execution_count": 7,
     "metadata": {},
     "output_type": "execute_result"
    },
    {
     "data": {
      "image/png": "[encoded data removed]",
      "text/plain": [
       "<Figure size 640x480 with 1 Axes>"
      ]
     },
     "metadata": {},
     "output_type": "display_data"
    }
   ],
   "source": [
    "plt.hist(train['trip_duration'])\n",
    "plt.xlabel('Trip duration')\n",
    "plt.ylabel('Amount')\n",
    "plt.title('Distribution of a target (trip_duration)')"
   ]
  },
  {
   "cell_type": "markdown",
   "id": "e6a469d9-c00d-4902-b6d3-0653bbde00da",
   "metadata": {},
   "source": [
    "Строится странная гистограмма, потому что в данных есть сильно отличающиеся от основной массы наблюдения - выбросы. Давайте посмотрим описательные статистики распределения таргета\n"
   ]
  },
  {
   "cell_type": "code",
   "execution_count": 8,
   "id": "52336a59-7791-48cc-b7f0-8328d614a0ce",
   "metadata": {
    "scrolled": true
   },
   "outputs": [
    {
     "data": {
      "text/html": [
       "<div>\n",
       "<style scoped>\n",
       "    .dataframe tbody tr th:only-of-type {\n",
       "        vertical-align: middle;\n",
       "    }\n",
       "\n",
       "    .dataframe tbody tr th {\n",
       "        vertical-align: top;\n",
       "    }\n",
       "\n",
       "    .dataframe thead th {\n",
       "        text-align: right;\n",
       "    }\n",
       "</style>\n",
       "<table border=\"1\" class=\"dataframe\">\n",
       "  <thead>\n",
       "    <tr style=\"text-align: right;\">\n",
       "      <th></th>\n",
       "      <th>trip_duration</th>\n",
       "    </tr>\n",
       "  </thead>\n",
       "  <tbody>\n",
       "    <tr>\n",
       "      <th>count</th>\n",
       "      <td>1.021050e+06</td>\n",
       "    </tr>\n",
       "    <tr>\n",
       "      <th>mean</th>\n",
       "      <td>9.617193e+02</td>\n",
       "    </tr>\n",
       "    <tr>\n",
       "      <th>std</th>\n",
       "      <td>5.900133e+03</td>\n",
       "    </tr>\n",
       "    <tr>\n",
       "      <th>min</th>\n",
       "      <td>1.000000e+00</td>\n",
       "    </tr>\n",
       "    <tr>\n",
       "      <th>25%</th>\n",
       "      <td>3.970000e+02</td>\n",
       "    </tr>\n",
       "    <tr>\n",
       "      <th>50%</th>\n",
       "      <td>6.630000e+02</td>\n",
       "    </tr>\n",
       "    <tr>\n",
       "      <th>75%</th>\n",
       "      <td>1.075000e+03</td>\n",
       "    </tr>\n",
       "    <tr>\n",
       "      <th>max</th>\n",
       "      <td>3.526282e+06</td>\n",
       "    </tr>\n",
       "  </tbody>\n",
       "</table>\n",
       "</div>"
      ],
      "text/plain": [
       "       trip_duration\n",
       "count   1.021050e+06\n",
       "mean    9.617193e+02\n",
       "std     5.900133e+03\n",
       "min     1.000000e+00\n",
       "25%     3.970000e+02\n",
       "50%     6.630000e+02\n",
       "75%     1.075000e+03\n",
       "max     3.526282e+06"
      ]
     },
     "execution_count": 8,
     "metadata": {},
     "output_type": "execute_result"
    }
   ],
   "source": [
    "train[['trip_duration']].describe()"
   ]
  },
  {
   "cell_type": "markdown",
   "id": "3c0b8a58-09a5-4edd-86ed-8a3128b037b7",
   "metadata": {},
   "source": [
    "Видим, что максимальное значние - 3.5 миллиона секунд, около 40 суток. Это совершенно аномальное значение."
   ]
  },
  {
   "cell_type": "markdown",
   "id": "0abd2ed0-cdd8-4730-acc0-65eef46b8be3",
   "metadata": {},
   "source": [
    "Попробуем построить гистограмму только по какому-то квантилю от данных, например c 0.005 по 0.998"
   ]
  },
  {
   "cell_type": "code",
   "execution_count": 9,
   "id": "15351edf-f270-4e56-a716-ab210fe30752",
   "metadata": {},
   "outputs": [
    {
     "data": {
      "text/plain": [
       "Text(0.5, 1.0, 'Distribution of a target (trip_duration)')"
      ]
     },
     "execution_count": 9,
     "metadata": {},
     "output_type": "execute_result"
    },
    {
     "data": {
      "image/png": "[encoded data removed]",
      "text/plain": [
       "<Figure size 640x480 with 1 Axes>"
      ]
     },
     "metadata": {},
     "output_type": "display_data"
    }
   ],
   "source": [
    "plt.hist(\n",
    "        train['trip_duration'].loc[(train['trip_duration'] < train['trip_duration'].quantile(0.998))\n",
    "                        & (train['trip_duration'] > train['trip_duration'].quantile(0.005))],\n",
    "        bins= 30)\n",
    "plt.xlabel('Trip duration')\n",
    "plt.ylabel('Amount')\n",
    "plt.title('Distribution of a target (trip_duration)')"
   ]
  },
  {
   "cell_type": "markdown",
   "id": "fcfb8634-312e-40f2-a5ea-a956c5724289",
   "metadata": {},
   "source": [
    "Сейчас распределение переменной стало выглядеть адекватнее. 99% всех поездок длятся менее 6000 секунд. Можно сказать, что 99 процентов поездок длятся в пределах двух часов."
   ]
  },
  {
   "cell_type": "markdown",
   "id": "7452f5c8-9c13-4faa-899f-bc5ba940b587",
   "metadata": {},
   "source": [
    "Распределение сосредоточено около нуля. Давате попробуем сдвинуть \"центр тяжести\" распределения, приблизив его к нормальному. Это можно сделать с помощью натурального логарифмирования."
   ]
  },
  {
   "cell_type": "code",
   "execution_count": 10,
   "id": "5fcaa1ef-c536-407b-a28a-a9b170d05989",
   "metadata": {},
   "outputs": [],
   "source": [
    "trip_duration_1_99  = train['trip_duration'].loc[(train['trip_duration'] < train['trip_duration'].quantile(0.998))\n",
    "                        & (train['trip_duration'] > train['trip_duration'].quantile(0.005))]"
   ]
  },
  {
   "cell_type": "code",
   "execution_count": 11,
   "id": "390b7522-3657-4e06-8313-76f8f93fc2e8",
   "metadata": {},
   "outputs": [
    {
     "data": {
      "text/plain": [
       "Text(0.5, 1.0, 'Distribution of (LOG_exp(Trip duration)')"
      ]
     },
     "execution_count": 11,
     "metadata": {},
     "output_type": "execute_result"
    },
    {
     "data": {
      "image/png": "[encoded data removed]",
      "text/plain": [
       "<Figure size 640x480 with 1 Axes>"
      ]
     },
     "metadata": {},
     "output_type": "display_data"
    }
   ],
   "source": [
    "plt.hist(np.log(trip_duration_1_99 + 1), bins=40)\n",
    "plt.xlabel('(LOG_exp(Trip duration) +1)')\n",
    "plt.ylabel('Amount')\n",
    "plt.title('Distribution of (LOG_exp(Trip duration)')"
   ]
  },
  {
   "cell_type": "markdown",
   "id": "52953a5b-fb95-47e5-b155-f9c42b82968f",
   "metadata": {},
   "source": [
    "Распределение стало очень похоже на нормальное. Основная вероятностная масса сосредоточена у значений от 400 до 1000 секунд. Предельные же значения - это 60 секунд и около 5000 секунд. **Т.е распределение времени поездок ограничивается диапазоном от 1 минуты до 1.5 часов.**"
   ]
  },
  {
   "cell_type": "markdown",
   "id": "b4d98daa-3ee7-4fc7-b3ca-5ca76f7e21b5",
   "metadata": {},
   "source": [
    "По итогу давайте оставим в нашем датасете только выбранные значения."
   ]
  },
  {
   "cell_type": "code",
   "execution_count": 12,
   "id": "1b83ab37-09ba-4be1-ba21-6f854c2d4860",
   "metadata": {},
   "outputs": [],
   "source": [
    "min_quantile = train['trip_duration'].quantile(0.005)\n",
    "max_quantile = train['trip_duration'].quantile(0.998)"
   ]
  },
  {
   "cell_type": "code",
   "execution_count": 13,
   "id": "30496732-eb9d-4ea8-a699-262e8dd4f9f0",
   "metadata": {},
   "outputs": [],
   "source": [
    "train = train.loc[(train['trip_duration'] > min_quantile) & (train['trip_duration'] < max_quantile)]"
   ]
  },
  {
   "cell_type": "code",
   "execution_count": null,
   "id": "dac43d49-64f3-497f-a4af-452be6604f1a",
   "metadata": {},
   "outputs": [],
   "source": []
  },
  {
   "cell_type": "markdown",
   "id": "8d2427cf-cacf-472e-8d27-4d2787443838",
   "metadata": {},
   "source": [
    "Поскольку логарифм таргета распределен для построение модели более подходящим образом, то будем предсказывать его, а потом сделаем обратное преобразование. Поэтому сделаем поле с логарифмом таргета."
   ]
  },
  {
   "cell_type": "code",
   "execution_count": 14,
   "id": "d618b7f2-934f-46d2-ac92-46ed6dccf6b3",
   "metadata": {},
   "outputs": [],
   "source": [
    "train.loc[:, 'log_duration'] = np.log(train['trip_duration'] + 1)\n",
    "train.drop(['trip_duration'], axis= 1, inplace= True)"
   ]
  },
  {
   "cell_type": "code",
   "execution_count": null,
   "id": "39ffd0f9-9c9d-4ff7-b8c3-ce7035f010ff",
   "metadata": {},
   "outputs": [],
   "source": []
  },
  {
   "cell_type": "markdown",
   "id": "a9239383-da5f-47a0-b2a2-06f4a678ac76",
   "metadata": {},
   "source": [
    "Вместо поля `pickup_datetime` сделаем три поля, отвечающие за месяц поездки, день недели и час. А само поле дропнем."
   ]
  },
  {
   "cell_type": "code",
   "execution_count": 15,
   "id": "4f5dd473-d552-49be-9286-3affac82ba32",
   "metadata": {},
   "outputs": [],
   "source": [
    "train.loc[:, 'PickupHour'] = train['pickup_datetime'].dt.hour\n",
    "train.loc[:, 'PickupDay'] = train['pickup_datetime'].dt.weekday\n",
    "train.loc[:, 'PickupMonth'] = train['pickup_datetime'].dt.month\n",
    "train.drop(['pickup_datetime'], axis=1, inplace= True)"
   ]
  },
  {
   "cell_type": "code",
   "execution_count": 16,
   "id": "fcebcc04-42ae-4a34-aa19-c137db1146e0",
   "metadata": {},
   "outputs": [
    {
     "data": {
      "text/html": [
       "<div>\n",
       "<style scoped>\n",
       "    .dataframe tbody tr th:only-of-type {\n",
       "        vertical-align: middle;\n",
       "    }\n",
       "\n",
       "    .dataframe tbody tr th {\n",
       "        vertical-align: top;\n",
       "    }\n",
       "\n",
       "    .dataframe thead th {\n",
       "        text-align: right;\n",
       "    }\n",
       "</style>\n",
       "<table border=\"1\" class=\"dataframe\">\n",
       "  <thead>\n",
       "    <tr style=\"text-align: right;\">\n",
       "      <th></th>\n",
       "      <th>id</th>\n",
       "      <th>vendor_id</th>\n",
       "      <th>passenger_count</th>\n",
       "      <th>pickup_longitude</th>\n",
       "      <th>pickup_latitude</th>\n",
       "      <th>dropoff_longitude</th>\n",
       "      <th>dropoff_latitude</th>\n",
       "      <th>store_and_fwd_flag</th>\n",
       "      <th>log_duration</th>\n",
       "      <th>PickupHour</th>\n",
       "      <th>PickupDay</th>\n",
       "      <th>PickupMonth</th>\n",
       "    </tr>\n",
       "  </thead>\n",
       "  <tbody>\n",
       "    <tr>\n",
       "      <th>0</th>\n",
       "      <td>id2209155</td>\n",
       "      <td>2</td>\n",
       "      <td>2</td>\n",
       "      <td>-73.979813</td>\n",
       "      <td>40.752529</td>\n",
       "      <td>-73.982681</td>\n",
       "      <td>40.763680</td>\n",
       "      <td>N</td>\n",
       "      <td>6.739337</td>\n",
       "      <td>9</td>\n",
       "      <td>1</td>\n",
       "      <td>5</td>\n",
       "    </tr>\n",
       "    <tr>\n",
       "      <th>1</th>\n",
       "      <td>id0586605</td>\n",
       "      <td>1</td>\n",
       "      <td>1</td>\n",
       "      <td>-73.977623</td>\n",
       "      <td>40.746296</td>\n",
       "      <td>-73.968414</td>\n",
       "      <td>40.788933</td>\n",
       "      <td>N</td>\n",
       "      <td>6.909753</td>\n",
       "      <td>16</td>\n",
       "      <td>4</td>\n",
       "      <td>1</td>\n",
       "    </tr>\n",
       "    <tr>\n",
       "      <th>2</th>\n",
       "      <td>id0467144</td>\n",
       "      <td>1</td>\n",
       "      <td>1</td>\n",
       "      <td>-73.950699</td>\n",
       "      <td>40.779404</td>\n",
       "      <td>-73.863129</td>\n",
       "      <td>40.768608</td>\n",
       "      <td>N</td>\n",
       "      <td>6.955593</td>\n",
       "      <td>13</td>\n",
       "      <td>6</td>\n",
       "      <td>4</td>\n",
       "    </tr>\n",
       "    <tr>\n",
       "      <th>3</th>\n",
       "      <td>id0989010</td>\n",
       "      <td>2</td>\n",
       "      <td>1</td>\n",
       "      <td>-73.984558</td>\n",
       "      <td>40.721802</td>\n",
       "      <td>-73.976753</td>\n",
       "      <td>40.752213</td>\n",
       "      <td>N</td>\n",
       "      <td>6.665684</td>\n",
       "      <td>17</td>\n",
       "      <td>6</td>\n",
       "      <td>1</td>\n",
       "    </tr>\n",
       "    <tr>\n",
       "      <th>4</th>\n",
       "      <td>id0580742</td>\n",
       "      <td>1</td>\n",
       "      <td>1</td>\n",
       "      <td>-73.967720</td>\n",
       "      <td>40.768742</td>\n",
       "      <td>-73.977173</td>\n",
       "      <td>40.789875</td>\n",
       "      <td>N</td>\n",
       "      <td>6.597146</td>\n",
       "      <td>17</td>\n",
       "      <td>3</td>\n",
       "      <td>2</td>\n",
       "    </tr>\n",
       "    <tr>\n",
       "      <th>...</th>\n",
       "      <td>...</td>\n",
       "      <td>...</td>\n",
       "      <td>...</td>\n",
       "      <td>...</td>\n",
       "      <td>...</td>\n",
       "      <td>...</td>\n",
       "      <td>...</td>\n",
       "      <td>...</td>\n",
       "      <td>...</td>\n",
       "      <td>...</td>\n",
       "      <td>...</td>\n",
       "      <td>...</td>\n",
       "    </tr>\n",
       "    <tr>\n",
       "      <th>1021045</th>\n",
       "      <td>id1753868</td>\n",
       "      <td>2</td>\n",
       "      <td>2</td>\n",
       "      <td>-73.955032</td>\n",
       "      <td>40.777328</td>\n",
       "      <td>-74.006203</td>\n",
       "      <td>40.749424</td>\n",
       "      <td>N</td>\n",
       "      <td>7.156177</td>\n",
       "      <td>7</td>\n",
       "      <td>4</td>\n",
       "      <td>3</td>\n",
       "    </tr>\n",
       "    <tr>\n",
       "      <th>1021046</th>\n",
       "      <td>id2204747</td>\n",
       "      <td>1</td>\n",
       "      <td>1</td>\n",
       "      <td>-73.973618</td>\n",
       "      <td>40.763920</td>\n",
       "      <td>-73.983849</td>\n",
       "      <td>40.749874</td>\n",
       "      <td>N</td>\n",
       "      <td>6.726233</td>\n",
       "      <td>18</td>\n",
       "      <td>1</td>\n",
       "      <td>2</td>\n",
       "    </tr>\n",
       "    <tr>\n",
       "      <th>1021047</th>\n",
       "      <td>id3043606</td>\n",
       "      <td>2</td>\n",
       "      <td>1</td>\n",
       "      <td>-74.006195</td>\n",
       "      <td>40.734283</td>\n",
       "      <td>-73.949608</td>\n",
       "      <td>40.785282</td>\n",
       "      <td>N</td>\n",
       "      <td>7.159292</td>\n",
       "      <td>19</td>\n",
       "      <td>1</td>\n",
       "      <td>1</td>\n",
       "    </tr>\n",
       "    <tr>\n",
       "      <th>1021048</th>\n",
       "      <td>id1458584</td>\n",
       "      <td>1</td>\n",
       "      <td>1</td>\n",
       "      <td>-73.962341</td>\n",
       "      <td>40.767323</td>\n",
       "      <td>-73.969757</td>\n",
       "      <td>40.768669</td>\n",
       "      <td>N</td>\n",
       "      <td>5.966147</td>\n",
       "      <td>11</td>\n",
       "      <td>1</td>\n",
       "      <td>1</td>\n",
       "    </tr>\n",
       "    <tr>\n",
       "      <th>1021049</th>\n",
       "      <td>id0357025</td>\n",
       "      <td>2</td>\n",
       "      <td>1</td>\n",
       "      <td>-73.874649</td>\n",
       "      <td>40.774071</td>\n",
       "      <td>-74.004242</td>\n",
       "      <td>40.746899</td>\n",
       "      <td>N</td>\n",
       "      <td>7.359468</td>\n",
       "      <td>22</td>\n",
       "      <td>2</td>\n",
       "      <td>2</td>\n",
       "    </tr>\n",
       "  </tbody>\n",
       "</table>\n",
       "<p>1013841 rows × 12 columns</p>\n",
       "</div>"
      ],
      "text/plain": [
       "                id  vendor_id  passenger_count  pickup_longitude  \\\n",
       "0        id2209155          2                2        -73.979813   \n",
       "1        id0586605          1                1        -73.977623   \n",
       "2        id0467144          1                1        -73.950699   \n",
       "3        id0989010          2                1        -73.984558   \n",
       "4        id0580742          1                1        -73.967720   \n",
       "...            ...        ...              ...               ...   \n",
       "1021045  id1753868          2                2        -73.955032   \n",
       "1021046  id2204747          1                1        -73.973618   \n",
       "1021047  id3043606          2                1        -74.006195   \n",
       "1021048  id1458584          1                1        -73.962341   \n",
       "1021049  id0357025          2                1        -73.874649   \n",
       "\n",
       "         pickup_latitude  dropoff_longitude  dropoff_latitude  \\\n",
       "0              40.752529         -73.982681         40.763680   \n",
       "1              40.746296         -73.968414         40.788933   \n",
       "2              40.779404         -73.863129         40.768608   \n",
       "3              40.721802         -73.976753         40.752213   \n",
       "4              40.768742         -73.977173         40.789875   \n",
       "...                  ...                ...               ...   \n",
       "1021045        40.777328         -74.006203         40.749424   \n",
       "1021046        40.763920         -73.983849         40.749874   \n",
       "1021047        40.734283         -73.949608         40.785282   \n",
       "1021048        40.767323         -73.969757         40.768669   \n",
       "1021049        40.774071         -74.004242         40.746899   \n",
       "\n",
       "        store_and_fwd_flag  log_duration  PickupHour  PickupDay  PickupMonth  \n",
       "0                        N      6.739337           9          1            5  \n",
       "1                        N      6.909753          16          4            1  \n",
       "2                        N      6.955593          13          6            4  \n",
       "3                        N      6.665684          17          6            1  \n",
       "4                        N      6.597146          17          3            2  \n",
       "...                    ...           ...         ...        ...          ...  \n",
       "1021045                  N      7.156177           7          4            3  \n",
       "1021046                  N      6.726233          18          1            2  \n",
       "1021047                  N      7.159292          19          1            1  \n",
       "1021048                  N      5.966147          11          1            1  \n",
       "1021049                  N      7.359468          22          2            2  \n",
       "\n",
       "[1013841 rows x 12 columns]"
      ]
     },
     "execution_count": 16,
     "metadata": {},
     "output_type": "execute_result"
    }
   ],
   "source": [
    "train"
   ]
  },
  {
   "cell_type": "code",
   "execution_count": null,
   "id": "1eed67e5-08a8-4a23-809d-1bbb3974abad",
   "metadata": {},
   "outputs": [],
   "source": []
  },
  {
   "cell_type": "markdown",
   "id": "8d9e7779-2803-4375-86fe-788fd03946e4",
   "metadata": {},
   "source": [
    "У нас есть координаты начала и конца поездки. Давате добавим поле `log_distance`, которое отображает расстояние между начальной и конечной точкой поездки, а точнее натуральный логарифм от расстояния. Сделаем это либо с помощью библиотеки `geopy`, либо `haversine`.Я изучил оба подхода и выбрал бибилиотеку `haversine`, поскольку она работает быстрее. Её минус только в том, что она не так точна на больших расстояниях. Но для нас этот минус неважен, поскольку расстояия в пределах города небольшие."
   ]
  },
  {
   "cell_type": "code",
   "execution_count": 17,
   "id": "05a9e79a-70c4-483c-8e57-3a8eb2304abb",
   "metadata": {},
   "outputs": [],
   "source": [
    "def calculate_distance(row):\n",
    "    pickup_coords = (row['pickup_latitude'], row['pickup_longitude'])\n",
    "    dropoff_coords = (row['dropoff_latitude'], row['dropoff_longitude'])\n",
    "    return haversine(pickup_coords, dropoff_coords, unit=Unit.KILOMETERS)\n",
    "\n",
    "train['distance'] = train.apply(calculate_distance, axis=1)\n",
    "train['log_distance'] = np.log(train['distance'] + 1)\n",
    "train.drop(['distance'], axis = 1, inplace = True)"
   ]
  },
  {
   "cell_type": "code",
   "execution_count": null,
   "id": "82e13dc4-19fa-4147-802f-371625292486",
   "metadata": {},
   "outputs": [],
   "source": []
  },
  {
   "cell_type": "markdown",
   "id": "357c0fa5-6320-4f19-a80c-68a0fa7314da",
   "metadata": {},
   "source": [
    "Удалим колонки с координатами, отдельно они не несут никакого смысла"
   ]
  },
  {
   "cell_type": "code",
   "execution_count": 18,
   "id": "d2289db0-0d0d-4491-b2cd-b0abfa3681ad",
   "metadata": {},
   "outputs": [],
   "source": [
    "train.drop(['pickup_longitude',\t'pickup_latitude', 'dropoff_longitude',\t'dropoff_latitude'], axis=1, inplace= True)"
   ]
  },
  {
   "cell_type": "code",
   "execution_count": 19,
   "id": "563334ef-6862-4707-8685-90a361979f96",
   "metadata": {},
   "outputs": [
    {
     "data": {
      "text/html": [
       "<div>\n",
       "<style scoped>\n",
       "    .dataframe tbody tr th:only-of-type {\n",
       "        vertical-align: middle;\n",
       "    }\n",
       "\n",
       "    .dataframe tbody tr th {\n",
       "        vertical-align: top;\n",
       "    }\n",
       "\n",
       "    .dataframe thead th {\n",
       "        text-align: right;\n",
       "    }\n",
       "</style>\n",
       "<table border=\"1\" class=\"dataframe\">\n",
       "  <thead>\n",
       "    <tr style=\"text-align: right;\">\n",
       "      <th></th>\n",
       "      <th>id</th>\n",
       "      <th>vendor_id</th>\n",
       "      <th>passenger_count</th>\n",
       "      <th>store_and_fwd_flag</th>\n",
       "      <th>log_duration</th>\n",
       "      <th>PickupHour</th>\n",
       "      <th>PickupDay</th>\n",
       "      <th>PickupMonth</th>\n",
       "      <th>log_distance</th>\n",
       "    </tr>\n",
       "  </thead>\n",
       "  <tbody>\n",
       "    <tr>\n",
       "      <th>0</th>\n",
       "      <td>id2209155</td>\n",
       "      <td>2</td>\n",
       "      <td>2</td>\n",
       "      <td>N</td>\n",
       "      <td>6.739337</td>\n",
       "      <td>9</td>\n",
       "      <td>1</td>\n",
       "      <td>5</td>\n",
       "      <td>0.816775</td>\n",
       "    </tr>\n",
       "    <tr>\n",
       "      <th>1</th>\n",
       "      <td>id0586605</td>\n",
       "      <td>1</td>\n",
       "      <td>1</td>\n",
       "      <td>N</td>\n",
       "      <td>6.909753</td>\n",
       "      <td>16</td>\n",
       "      <td>4</td>\n",
       "      <td>1</td>\n",
       "      <td>1.758551</td>\n",
       "    </tr>\n",
       "    <tr>\n",
       "      <th>2</th>\n",
       "      <td>id0467144</td>\n",
       "      <td>1</td>\n",
       "      <td>1</td>\n",
       "      <td>N</td>\n",
       "      <td>6.955593</td>\n",
       "      <td>13</td>\n",
       "      <td>6</td>\n",
       "      <td>4</td>\n",
       "      <td>2.136660</td>\n",
       "    </tr>\n",
       "    <tr>\n",
       "      <th>3</th>\n",
       "      <td>id0989010</td>\n",
       "      <td>2</td>\n",
       "      <td>1</td>\n",
       "      <td>N</td>\n",
       "      <td>6.665684</td>\n",
       "      <td>17</td>\n",
       "      <td>6</td>\n",
       "      <td>1</td>\n",
       "      <td>1.491751</td>\n",
       "    </tr>\n",
       "    <tr>\n",
       "      <th>4</th>\n",
       "      <td>id0580742</td>\n",
       "      <td>1</td>\n",
       "      <td>1</td>\n",
       "      <td>N</td>\n",
       "      <td>6.597146</td>\n",
       "      <td>17</td>\n",
       "      <td>3</td>\n",
       "      <td>2</td>\n",
       "      <td>1.247339</td>\n",
       "    </tr>\n",
       "    <tr>\n",
       "      <th>...</th>\n",
       "      <td>...</td>\n",
       "      <td>...</td>\n",
       "      <td>...</td>\n",
       "      <td>...</td>\n",
       "      <td>...</td>\n",
       "      <td>...</td>\n",
       "      <td>...</td>\n",
       "      <td>...</td>\n",
       "      <td>...</td>\n",
       "    </tr>\n",
       "    <tr>\n",
       "      <th>1021045</th>\n",
       "      <td>id1753868</td>\n",
       "      <td>2</td>\n",
       "      <td>2</td>\n",
       "      <td>N</td>\n",
       "      <td>7.156177</td>\n",
       "      <td>7</td>\n",
       "      <td>4</td>\n",
       "      <td>3</td>\n",
       "      <td>1.842198</td>\n",
       "    </tr>\n",
       "    <tr>\n",
       "      <th>1021046</th>\n",
       "      <td>id2204747</td>\n",
       "      <td>1</td>\n",
       "      <td>1</td>\n",
       "      <td>N</td>\n",
       "      <td>6.726233</td>\n",
       "      <td>18</td>\n",
       "      <td>1</td>\n",
       "      <td>2</td>\n",
       "      <td>1.023810</td>\n",
       "    </tr>\n",
       "    <tr>\n",
       "      <th>1021047</th>\n",
       "      <td>id3043606</td>\n",
       "      <td>2</td>\n",
       "      <td>1</td>\n",
       "      <td>N</td>\n",
       "      <td>7.159292</td>\n",
       "      <td>19</td>\n",
       "      <td>1</td>\n",
       "      <td>1</td>\n",
       "      <td>2.129143</td>\n",
       "    </tr>\n",
       "    <tr>\n",
       "      <th>1021048</th>\n",
       "      <td>id1458584</td>\n",
       "      <td>1</td>\n",
       "      <td>1</td>\n",
       "      <td>N</td>\n",
       "      <td>5.966147</td>\n",
       "      <td>11</td>\n",
       "      <td>1</td>\n",
       "      <td>1</td>\n",
       "      <td>0.496047</td>\n",
       "    </tr>\n",
       "    <tr>\n",
       "      <th>1021049</th>\n",
       "      <td>id0357025</td>\n",
       "      <td>2</td>\n",
       "      <td>1</td>\n",
       "      <td>N</td>\n",
       "      <td>7.359468</td>\n",
       "      <td>22</td>\n",
       "      <td>2</td>\n",
       "      <td>2</td>\n",
       "      <td>2.511656</td>\n",
       "    </tr>\n",
       "  </tbody>\n",
       "</table>\n",
       "<p>1013841 rows × 9 columns</p>\n",
       "</div>"
      ],
      "text/plain": [
       "                id  vendor_id  passenger_count store_and_fwd_flag  \\\n",
       "0        id2209155          2                2                  N   \n",
       "1        id0586605          1                1                  N   \n",
       "2        id0467144          1                1                  N   \n",
       "3        id0989010          2                1                  N   \n",
       "4        id0580742          1                1                  N   \n",
       "...            ...        ...              ...                ...   \n",
       "1021045  id1753868          2                2                  N   \n",
       "1021046  id2204747          1                1                  N   \n",
       "1021047  id3043606          2                1                  N   \n",
       "1021048  id1458584          1                1                  N   \n",
       "1021049  id0357025          2                1                  N   \n",
       "\n",
       "         log_duration  PickupHour  PickupDay  PickupMonth  log_distance  \n",
       "0            6.739337           9          1            5      0.816775  \n",
       "1            6.909753          16          4            1      1.758551  \n",
       "2            6.955593          13          6            4      2.136660  \n",
       "3            6.665684          17          6            1      1.491751  \n",
       "4            6.597146          17          3            2      1.247339  \n",
       "...               ...         ...        ...          ...           ...  \n",
       "1021045      7.156177           7          4            3      1.842198  \n",
       "1021046      6.726233          18          1            2      1.023810  \n",
       "1021047      7.159292          19          1            1      2.129143  \n",
       "1021048      5.966147          11          1            1      0.496047  \n",
       "1021049      7.359468          22          2            2      2.511656  \n",
       "\n",
       "[1013841 rows x 9 columns]"
      ]
     },
     "execution_count": 19,
     "metadata": {},
     "output_type": "execute_result"
    }
   ],
   "source": [
    "train"
   ]
  },
  {
   "cell_type": "code",
   "execution_count": null,
   "id": "8e66e9ba-ea0d-4699-9b7b-c7ad74ee269d",
   "metadata": {},
   "outputs": [],
   "source": []
  },
  {
   "cell_type": "markdown",
   "id": "cd8cbc3c-78c3-4698-bbb4-1b6d6d67faed",
   "metadata": {},
   "source": [
    "Теперь будем смотреть, как влияют оставшиеся переменные на целевую. Я предполагаю, что из переменных, отображающих день, час и месяц поездки, я оставлю только те категории, для которых средние значения таргета отличаются."
   ]
  },
  {
   "cell_type": "code",
   "execution_count": 20,
   "id": "e6605bd7-d903-49be-80ce-353a7a5e0e99",
   "metadata": {},
   "outputs": [],
   "source": [
    "groupings = ['PickupHour', 'PickupDay', 'PickupMonth']\n",
    "mean_durations = {}\n",
    "mean_distance = {}\n",
    "\n",
    "for group in groupings:\n",
    "    mean_durations[f'mean_dur_per_{group}'] = train.groupby(group).agg({'log_duration': 'mean'}).reset_index()\n",
    "    mean_distance[f'mean_dur_per_{group}'] = train.groupby(group).agg({'log_distance': 'mean'}).reset_index()    \n"
   ]
  },
  {
   "cell_type": "code",
   "execution_count": null,
   "id": "5670ed5a-3823-45a7-b175-e849fd467b7a",
   "metadata": {},
   "outputs": [],
   "source": []
  },
  {
   "cell_type": "code",
   "execution_count": 21,
   "id": "01edc294-48a6-40bc-807c-14e4b562cdad",
   "metadata": {},
   "outputs": [
    {
     "data": {
      "image/png": "[encoded data removed]",
      "text/plain": [
       "<Figure size 1800x1000 with 6 Axes>"
      ]
     },
     "metadata": {},
     "output_type": "display_data"
    }
   ],
   "source": [
    "fig, axes = plt.subplots(nrows=2, ncols=3, figsize=(18, 10))\n",
    "\n",
    "for i, group in enumerate(groupings):\n",
    "    data_duration = mean_durations[f'mean_dur_per_{group}']\n",
    "    \n",
    "    sns.lineplot(x=group, y='log_duration', data=data_duration, marker='o', linewidth=2, ax=axes[0, i])\n",
    "    axes[0, i].set_title(f'Average Trip Duration by {group}', fontsize=14)\n",
    "    axes[0, i].set_xlabel(group, fontsize=12)\n",
    "    axes[0, i].set_ylabel('Mean Log Duration', fontsize=12)\n",
    "    axes[0, i].tick_params(axis='x') \n",
    "\n",
    "    data_distance = mean_distance[f'mean_dur_per_{group}']\n",
    "    \n",
    "    sns.lineplot(x=group, y='log_distance', data=data_distance, marker='o', linewidth=2, ax=axes[1, i])\n",
    "    axes[1, i].set_title(f'Average Trip Distance by {group}', fontsize=14)\n",
    "    axes[1, i].set_xlabel(group, fontsize=12)\n",
    "    axes[1, i].set_ylabel('Mean Log Distance', fontsize=12)\n",
    "    axes[1, i].tick_params(axis='x')\n",
    "\n",
    "plt.tight_layout()\n",
    "plt.show()"
   ]
  },
  {
   "cell_type": "markdown",
   "id": "a8476b39-98a6-451e-8a8b-99ecacbaca7c",
   "metadata": {},
   "source": [
    "Выводы: Продолжительность поездки выше в середине дня, по всей видимости это из-за пробок. В то же время в середине дня меньше расстояние поездки. Так же продолжительность выше в середине недели, а дальность поездок возрастает в выходной день. По месяцам от января к июню растет как продолжительность, так и дальность поездки. "
   ]
  },
  {
   "cell_type": "code",
   "execution_count": null,
   "id": "2ceac20b-ac34-46fc-b2cb-1c0ed737ed4c",
   "metadata": {},
   "outputs": [],
   "source": []
  },
  {
   "cell_type": "markdown",
   "id": "9008247a-0e55-45d1-ad71-e96464338fb5",
   "metadata": {},
   "source": [
    "Создадим категориальные переменные, которые равны 1 в моменты повышенной активности.\n",
    "\n",
    "**\"middle_of_week\"**, которая равна 1, когда поле датасета \"PickupDay\" isin([1, 2, 3, 4])\n",
    "\n",
    "**\"lunch_time\"**, которая равна 1, если поле \"PickupHour\" в промежутке от 8 до 18 включительно\n",
    "\n",
    "**\"night_time\"**, которая равна 1, если поле \"PickupHour\" isin([5, 6, 7])\n",
    "\n",
    "**\"evening_time\"**, которая равна 1, если поле \"PickupHour\" isin([19, 20, 21, 22, 23, 0, 1, 2, 3, 4])\n",
    "\n",
    "**\"good_months\"**, которая равна 1, если поле \"PickupMonth\" равно 4, 5 или 6."
   ]
  },
  {
   "cell_type": "code",
   "execution_count": 22,
   "id": "e2fbc8c4-c00c-45c9-b7fe-c3fe9f3c6d28",
   "metadata": {},
   "outputs": [],
   "source": [
    "train['middle_of_week'] = np.where(train['PickupDay'].isin([1, 2, 3, 4]), 1, 0)\n",
    "\n",
    "train['lunch_time'] = np.where(train['PickupHour'].between(8, 18), 1, 0)\n",
    "\n",
    "train['night_time'] = np.where(train['PickupHour'].isin([5, 6, 7]), 1, 0)\n",
    "\n",
    "train['evening_time'] = np.where(train['PickupHour'].isin([19, 20, 21, 22, 23, 0, 1, 2, 3, 4]), 1, 0)\n",
    "\n",
    "train['good_months'] = np.where(train['PickupMonth'].isin([4, 5, 6]), 1, 0)"
   ]
  },
  {
   "cell_type": "code",
   "execution_count": 23,
   "id": "ae79cb9e-22a3-4664-9c65-fe4fb247ffcc",
   "metadata": {},
   "outputs": [
    {
     "data": {
      "text/html": [
       "<div>\n",
       "<style scoped>\n",
       "    .dataframe tbody tr th:only-of-type {\n",
       "        vertical-align: middle;\n",
       "    }\n",
       "\n",
       "    .dataframe tbody tr th {\n",
       "        vertical-align: top;\n",
       "    }\n",
       "\n",
       "    .dataframe thead th {\n",
       "        text-align: right;\n",
       "    }\n",
       "</style>\n",
       "<table border=\"1\" class=\"dataframe\">\n",
       "  <thead>\n",
       "    <tr style=\"text-align: right;\">\n",
       "      <th></th>\n",
       "      <th>id</th>\n",
       "      <th>vendor_id</th>\n",
       "      <th>passenger_count</th>\n",
       "      <th>store_and_fwd_flag</th>\n",
       "      <th>log_duration</th>\n",
       "      <th>PickupHour</th>\n",
       "      <th>PickupDay</th>\n",
       "      <th>PickupMonth</th>\n",
       "      <th>log_distance</th>\n",
       "      <th>middle_of_week</th>\n",
       "      <th>lunch_time</th>\n",
       "      <th>night_time</th>\n",
       "      <th>evening_time</th>\n",
       "      <th>good_months</th>\n",
       "    </tr>\n",
       "  </thead>\n",
       "  <tbody>\n",
       "    <tr>\n",
       "      <th>0</th>\n",
       "      <td>id2209155</td>\n",
       "      <td>2</td>\n",
       "      <td>2</td>\n",
       "      <td>N</td>\n",
       "      <td>6.739337</td>\n",
       "      <td>9</td>\n",
       "      <td>1</td>\n",
       "      <td>5</td>\n",
       "      <td>0.816775</td>\n",
       "      <td>1</td>\n",
       "      <td>1</td>\n",
       "      <td>0</td>\n",
       "      <td>0</td>\n",
       "      <td>1</td>\n",
       "    </tr>\n",
       "    <tr>\n",
       "      <th>1</th>\n",
       "      <td>id0586605</td>\n",
       "      <td>1</td>\n",
       "      <td>1</td>\n",
       "      <td>N</td>\n",
       "      <td>6.909753</td>\n",
       "      <td>16</td>\n",
       "      <td>4</td>\n",
       "      <td>1</td>\n",
       "      <td>1.758551</td>\n",
       "      <td>1</td>\n",
       "      <td>1</td>\n",
       "      <td>0</td>\n",
       "      <td>0</td>\n",
       "      <td>0</td>\n",
       "    </tr>\n",
       "    <tr>\n",
       "      <th>2</th>\n",
       "      <td>id0467144</td>\n",
       "      <td>1</td>\n",
       "      <td>1</td>\n",
       "      <td>N</td>\n",
       "      <td>6.955593</td>\n",
       "      <td>13</td>\n",
       "      <td>6</td>\n",
       "      <td>4</td>\n",
       "      <td>2.136660</td>\n",
       "      <td>0</td>\n",
       "      <td>1</td>\n",
       "      <td>0</td>\n",
       "      <td>0</td>\n",
       "      <td>1</td>\n",
       "    </tr>\n",
       "    <tr>\n",
       "      <th>3</th>\n",
       "      <td>id0989010</td>\n",
       "      <td>2</td>\n",
       "      <td>1</td>\n",
       "      <td>N</td>\n",
       "      <td>6.665684</td>\n",
       "      <td>17</td>\n",
       "      <td>6</td>\n",
       "      <td>1</td>\n",
       "      <td>1.491751</td>\n",
       "      <td>0</td>\n",
       "      <td>1</td>\n",
       "      <td>0</td>\n",
       "      <td>0</td>\n",
       "      <td>0</td>\n",
       "    </tr>\n",
       "    <tr>\n",
       "      <th>4</th>\n",
       "      <td>id0580742</td>\n",
       "      <td>1</td>\n",
       "      <td>1</td>\n",
       "      <td>N</td>\n",
       "      <td>6.597146</td>\n",
       "      <td>17</td>\n",
       "      <td>3</td>\n",
       "      <td>2</td>\n",
       "      <td>1.247339</td>\n",
       "      <td>1</td>\n",
       "      <td>1</td>\n",
       "      <td>0</td>\n",
       "      <td>0</td>\n",
       "      <td>0</td>\n",
       "    </tr>\n",
       "    <tr>\n",
       "      <th>...</th>\n",
       "      <td>...</td>\n",
       "      <td>...</td>\n",
       "      <td>...</td>\n",
       "      <td>...</td>\n",
       "      <td>...</td>\n",
       "      <td>...</td>\n",
       "      <td>...</td>\n",
       "      <td>...</td>\n",
       "      <td>...</td>\n",
       "      <td>...</td>\n",
       "      <td>...</td>\n",
       "      <td>...</td>\n",
       "      <td>...</td>\n",
       "      <td>...</td>\n",
       "    </tr>\n",
       "    <tr>\n",
       "      <th>1021045</th>\n",
       "      <td>id1753868</td>\n",
       "      <td>2</td>\n",
       "      <td>2</td>\n",
       "      <td>N</td>\n",
       "      <td>7.156177</td>\n",
       "      <td>7</td>\n",
       "      <td>4</td>\n",
       "      <td>3</td>\n",
       "      <td>1.842198</td>\n",
       "      <td>1</td>\n",
       "      <td>0</td>\n",
       "      <td>1</td>\n",
       "      <td>0</td>\n",
       "      <td>0</td>\n",
       "    </tr>\n",
       "    <tr>\n",
       "      <th>1021046</th>\n",
       "      <td>id2204747</td>\n",
       "      <td>1</td>\n",
       "      <td>1</td>\n",
       "      <td>N</td>\n",
       "      <td>6.726233</td>\n",
       "      <td>18</td>\n",
       "      <td>1</td>\n",
       "      <td>2</td>\n",
       "      <td>1.023810</td>\n",
       "      <td>1</td>\n",
       "      <td>1</td>\n",
       "      <td>0</td>\n",
       "      <td>0</td>\n",
       "      <td>0</td>\n",
       "    </tr>\n",
       "    <tr>\n",
       "      <th>1021047</th>\n",
       "      <td>id3043606</td>\n",
       "      <td>2</td>\n",
       "      <td>1</td>\n",
       "      <td>N</td>\n",
       "      <td>7.159292</td>\n",
       "      <td>19</td>\n",
       "      <td>1</td>\n",
       "      <td>1</td>\n",
       "      <td>2.129143</td>\n",
       "      <td>1</td>\n",
       "      <td>0</td>\n",
       "      <td>0</td>\n",
       "      <td>1</td>\n",
       "      <td>0</td>\n",
       "    </tr>\n",
       "    <tr>\n",
       "      <th>1021048</th>\n",
       "      <td>id1458584</td>\n",
       "      <td>1</td>\n",
       "      <td>1</td>\n",
       "      <td>N</td>\n",
       "      <td>5.966147</td>\n",
       "      <td>11</td>\n",
       "      <td>1</td>\n",
       "      <td>1</td>\n",
       "      <td>0.496047</td>\n",
       "      <td>1</td>\n",
       "      <td>1</td>\n",
       "      <td>0</td>\n",
       "      <td>0</td>\n",
       "      <td>0</td>\n",
       "    </tr>\n",
       "    <tr>\n",
       "      <th>1021049</th>\n",
       "      <td>id0357025</td>\n",
       "      <td>2</td>\n",
       "      <td>1</td>\n",
       "      <td>N</td>\n",
       "      <td>7.359468</td>\n",
       "      <td>22</td>\n",
       "      <td>2</td>\n",
       "      <td>2</td>\n",
       "      <td>2.511656</td>\n",
       "      <td>1</td>\n",
       "      <td>0</td>\n",
       "      <td>0</td>\n",
       "      <td>1</td>\n",
       "      <td>0</td>\n",
       "    </tr>\n",
       "  </tbody>\n",
       "</table>\n",
       "<p>1013841 rows × 14 columns</p>\n",
       "</div>"
      ],
      "text/plain": [
       "                id  vendor_id  passenger_count store_and_fwd_flag  \\\n",
       "0        id2209155          2                2                  N   \n",
       "1        id0586605          1                1                  N   \n",
       "2        id0467144          1                1                  N   \n",
       "3        id0989010          2                1                  N   \n",
       "4        id0580742          1                1                  N   \n",
       "...            ...        ...              ...                ...   \n",
       "1021045  id1753868          2                2                  N   \n",
       "1021046  id2204747          1                1                  N   \n",
       "1021047  id3043606          2                1                  N   \n",
       "1021048  id1458584          1                1                  N   \n",
       "1021049  id0357025          2                1                  N   \n",
       "\n",
       "         log_duration  PickupHour  PickupDay  PickupMonth  log_distance  \\\n",
       "0            6.739337           9          1            5      0.816775   \n",
       "1            6.909753          16          4            1      1.758551   \n",
       "2            6.955593          13          6            4      2.136660   \n",
       "3            6.665684          17          6            1      1.491751   \n",
       "4            6.597146          17          3            2      1.247339   \n",
       "...               ...         ...        ...          ...           ...   \n",
       "1021045      7.156177           7          4            3      1.842198   \n",
       "1021046      6.726233          18          1            2      1.023810   \n",
       "1021047      7.159292          19          1            1      2.129143   \n",
       "1021048      5.966147          11          1            1      0.496047   \n",
       "1021049      7.359468          22          2            2      2.511656   \n",
       "\n",
       "         middle_of_week  lunch_time  night_time  evening_time  good_months  \n",
       "0                     1           1           0             0            1  \n",
       "1                     1           1           0             0            0  \n",
       "2                     0           1           0             0            1  \n",
       "3                     0           1           0             0            0  \n",
       "4                     1           1           0             0            0  \n",
       "...                 ...         ...         ...           ...          ...  \n",
       "1021045               1           0           1             0            0  \n",
       "1021046               1           1           0             0            0  \n",
       "1021047               1           0           0             1            0  \n",
       "1021048               1           1           0             0            0  \n",
       "1021049               1           0           0             1            0  \n",
       "\n",
       "[1013841 rows x 14 columns]"
      ]
     },
     "execution_count": 23,
     "metadata": {},
     "output_type": "execute_result"
    }
   ],
   "source": [
    "train"
   ]
  },
  {
   "cell_type": "code",
   "execution_count": null,
   "id": "a5ba52a8-e066-4118-b9b7-c414d4034cae",
   "metadata": {},
   "outputs": [],
   "source": []
  },
  {
   "cell_type": "code",
   "execution_count": 24,
   "id": "b42033b6-566d-4789-a5e4-445dfab28b2a",
   "metadata": {},
   "outputs": [
    {
     "data": {
      "image/png": "[encoded data removed]",
      "text/plain": [
       "<Figure size 600x400 with 1 Axes>"
      ]
     },
     "metadata": {},
     "output_type": "display_data"
    },
    {
     "data": {
      "image/png": "[encoded data removed]",
      "text/plain": [
       "<Figure size 600x400 with 1 Axes>"
      ]
     },
     "metadata": {},
     "output_type": "display_data"
    },
    {
     "data": {
      "image/png": "[encoded data removed]",
      "text/plain": [
       "<Figure size 600x400 with 1 Axes>"
      ]
     },
     "metadata": {},
     "output_type": "display_data"
    }
   ],
   "source": [
    "categorical_features = ['vendor_id', 'passenger_count', 'store_and_fwd_flag']\n",
    "\n",
    "for feature in categorical_features:\n",
    "    plt.figure(figsize=(6, 4))\n",
    "    \n",
    "    sns.barplot(x=feature, y='log_duration', data=train, errorbar=None)\n",
    "    \n",
    "    plt.title(f'Average Trip Duration by {feature}', fontsize=16)\n",
    "    plt.xlabel(feature, fontsize=12)\n",
    "    plt.ylabel('Mean Log Duration', fontsize=12)\n",
    "\n",
    "    plt.show()"
   ]
  },
  {
   "cell_type": "markdown",
   "id": "36cbc6b8-fc34-4d8a-b0d7-2762f6dca61e",
   "metadata": {},
   "source": [
    "Категориальные переменные `store_and_fwd_flag` и `vendor_id` практически не оказывают влияния на продолжительность поездки. \n",
    "С переменной \"passenger_count\" ситуация подозрительная. Для значения 7 статистики вовсе нет. "
   ]
  },
  {
   "cell_type": "code",
   "execution_count": 25,
   "id": "1b90822f-67d1-4be4-8f17-44c81f9c3203",
   "metadata": {},
   "outputs": [
    {
     "data": {
      "text/plain": [
       "Text(0, 0.5, 'Amount')"
      ]
     },
     "execution_count": 25,
     "metadata": {},
     "output_type": "execute_result"
    },
    {
     "data": {
      "image/png": "[encoded data removed]",
      "text/plain": [
       "<Figure size 1000x600 with 1 Axes>"
      ]
     },
     "metadata": {},
     "output_type": "display_data"
    }
   ],
   "source": [
    "plt.figure(figsize=(10, 6))\n",
    "sns.histplot(train['passenger_count'], bins=10, kde=False)\n",
    "\n",
    "plt.title('Distribution of Passenger Count', fontsize=16)\n",
    "plt.xlabel('Passenger Count', fontsize=12)\n",
    "plt.ylabel('Amount', fontsize=12)"
   ]
  },
  {
   "cell_type": "markdown",
   "id": "1cc3ed5e-b0c2-4061-a68a-6142b3572efa",
   "metadata": {},
   "source": [
    "Выборка несбалансированная по этой переменной. На гистограмме можно было заметить различия в среднем времени поездки для разных значений этой переменной, но мы не можем считать их валидными, поскольку эти наблюдения относятся к очень малочисленному значению категории."
   ]
  },
  {
   "cell_type": "markdown",
   "id": "150aa8ca-9ecd-4b1c-8c82-316619b7d3be",
   "metadata": {},
   "source": [
    "В общем исключим эти категориальные признаки, а еще исключим id заказчика. Исключим также день, месяц и час, поскольку мы их уже закодировали."
   ]
  },
  {
   "cell_type": "code",
   "execution_count": 26,
   "id": "bd2ffbe2-bf79-4153-a2af-74f9c4a18253",
   "metadata": {},
   "outputs": [],
   "source": [
    "train.drop(['vendor_id', 'passenger_count', 'store_and_fwd_flag','id', 'PickupHour', 'PickupDay', 'PickupMonth' ], axis=1, inplace= True)"
   ]
  },
  {
   "cell_type": "code",
   "execution_count": 27,
   "id": "b05b3f9c-ad3e-4cd7-9956-afa5f9e1ac22",
   "metadata": {},
   "outputs": [
    {
     "data": {
      "text/html": [
       "<div>\n",
       "<style scoped>\n",
       "    .dataframe tbody tr th:only-of-type {\n",
       "        vertical-align: middle;\n",
       "    }\n",
       "\n",
       "    .dataframe tbody tr th {\n",
       "        vertical-align: top;\n",
       "    }\n",
       "\n",
       "    .dataframe thead th {\n",
       "        text-align: right;\n",
       "    }\n",
       "</style>\n",
       "<table border=\"1\" class=\"dataframe\">\n",
       "  <thead>\n",
       "    <tr style=\"text-align: right;\">\n",
       "      <th></th>\n",
       "      <th>log_duration</th>\n",
       "      <th>log_distance</th>\n",
       "      <th>middle_of_week</th>\n",
       "      <th>lunch_time</th>\n",
       "      <th>night_time</th>\n",
       "      <th>evening_time</th>\n",
       "      <th>good_months</th>\n",
       "    </tr>\n",
       "  </thead>\n",
       "  <tbody>\n",
       "    <tr>\n",
       "      <th>0</th>\n",
       "      <td>6.739337</td>\n",
       "      <td>0.816775</td>\n",
       "      <td>1</td>\n",
       "      <td>1</td>\n",
       "      <td>0</td>\n",
       "      <td>0</td>\n",
       "      <td>1</td>\n",
       "    </tr>\n",
       "    <tr>\n",
       "      <th>1</th>\n",
       "      <td>6.909753</td>\n",
       "      <td>1.758551</td>\n",
       "      <td>1</td>\n",
       "      <td>1</td>\n",
       "      <td>0</td>\n",
       "      <td>0</td>\n",
       "      <td>0</td>\n",
       "    </tr>\n",
       "    <tr>\n",
       "      <th>2</th>\n",
       "      <td>6.955593</td>\n",
       "      <td>2.136660</td>\n",
       "      <td>0</td>\n",
       "      <td>1</td>\n",
       "      <td>0</td>\n",
       "      <td>0</td>\n",
       "      <td>1</td>\n",
       "    </tr>\n",
       "    <tr>\n",
       "      <th>3</th>\n",
       "      <td>6.665684</td>\n",
       "      <td>1.491751</td>\n",
       "      <td>0</td>\n",
       "      <td>1</td>\n",
       "      <td>0</td>\n",
       "      <td>0</td>\n",
       "      <td>0</td>\n",
       "    </tr>\n",
       "    <tr>\n",
       "      <th>4</th>\n",
       "      <td>6.597146</td>\n",
       "      <td>1.247339</td>\n",
       "      <td>1</td>\n",
       "      <td>1</td>\n",
       "      <td>0</td>\n",
       "      <td>0</td>\n",
       "      <td>0</td>\n",
       "    </tr>\n",
       "    <tr>\n",
       "      <th>...</th>\n",
       "      <td>...</td>\n",
       "      <td>...</td>\n",
       "      <td>...</td>\n",
       "      <td>...</td>\n",
       "      <td>...</td>\n",
       "      <td>...</td>\n",
       "      <td>...</td>\n",
       "    </tr>\n",
       "    <tr>\n",
       "      <th>1021045</th>\n",
       "      <td>7.156177</td>\n",
       "      <td>1.842198</td>\n",
       "      <td>1</td>\n",
       "      <td>0</td>\n",
       "      <td>1</td>\n",
       "      <td>0</td>\n",
       "      <td>0</td>\n",
       "    </tr>\n",
       "    <tr>\n",
       "      <th>1021046</th>\n",
       "      <td>6.726233</td>\n",
       "      <td>1.023810</td>\n",
       "      <td>1</td>\n",
       "      <td>1</td>\n",
       "      <td>0</td>\n",
       "      <td>0</td>\n",
       "      <td>0</td>\n",
       "    </tr>\n",
       "    <tr>\n",
       "      <th>1021047</th>\n",
       "      <td>7.159292</td>\n",
       "      <td>2.129143</td>\n",
       "      <td>1</td>\n",
       "      <td>0</td>\n",
       "      <td>0</td>\n",
       "      <td>1</td>\n",
       "      <td>0</td>\n",
       "    </tr>\n",
       "    <tr>\n",
       "      <th>1021048</th>\n",
       "      <td>5.966147</td>\n",
       "      <td>0.496047</td>\n",
       "      <td>1</td>\n",
       "      <td>1</td>\n",
       "      <td>0</td>\n",
       "      <td>0</td>\n",
       "      <td>0</td>\n",
       "    </tr>\n",
       "    <tr>\n",
       "      <th>1021049</th>\n",
       "      <td>7.359468</td>\n",
       "      <td>2.511656</td>\n",
       "      <td>1</td>\n",
       "      <td>0</td>\n",
       "      <td>0</td>\n",
       "      <td>1</td>\n",
       "      <td>0</td>\n",
       "    </tr>\n",
       "  </tbody>\n",
       "</table>\n",
       "<p>1013841 rows × 7 columns</p>\n",
       "</div>"
      ],
      "text/plain": [
       "         log_duration  log_distance  middle_of_week  lunch_time  night_time  \\\n",
       "0            6.739337      0.816775               1           1           0   \n",
       "1            6.909753      1.758551               1           1           0   \n",
       "2            6.955593      2.136660               0           1           0   \n",
       "3            6.665684      1.491751               0           1           0   \n",
       "4            6.597146      1.247339               1           1           0   \n",
       "...               ...           ...             ...         ...         ...   \n",
       "1021045      7.156177      1.842198               1           0           1   \n",
       "1021046      6.726233      1.023810               1           1           0   \n",
       "1021047      7.159292      2.129143               1           0           0   \n",
       "1021048      5.966147      0.496047               1           1           0   \n",
       "1021049      7.359468      2.511656               1           0           0   \n",
       "\n",
       "         evening_time  good_months  \n",
       "0                   0            1  \n",
       "1                   0            0  \n",
       "2                   0            1  \n",
       "3                   0            0  \n",
       "4                   0            0  \n",
       "...               ...          ...  \n",
       "1021045             0            0  \n",
       "1021046             0            0  \n",
       "1021047             1            0  \n",
       "1021048             0            0  \n",
       "1021049             1            0  \n",
       "\n",
       "[1013841 rows x 7 columns]"
      ]
     },
     "execution_count": 27,
     "metadata": {},
     "output_type": "execute_result"
    }
   ],
   "source": [
    "train"
   ]
  },
  {
   "cell_type": "code",
   "execution_count": null,
   "id": "3a64bf99-c83c-44af-aa2f-753d47f05dbd",
   "metadata": {},
   "outputs": [],
   "source": []
  },
  {
   "cell_type": "markdown",
   "id": "01a25d90-5c81-45eb-a682-7b7da18611fd",
   "metadata": {},
   "source": [
    "Теперь стандартизуем предиктор 'log_distance'"
   ]
  },
  {
   "cell_type": "code",
   "execution_count": 28,
   "id": "99b60cba-c988-4477-b75e-7860a6ecb973",
   "metadata": {},
   "outputs": [],
   "source": [
    "scaler = StandardScaler()\n",
    "train[['log_distance']] = scaler.fit_transform(train[['log_distance']])"
   ]
  },
  {
   "cell_type": "code",
   "execution_count": null,
   "id": "18d0b7ea-a4dd-469b-8358-8367d04c5599",
   "metadata": {},
   "outputs": [],
   "source": []
  },
  {
   "cell_type": "markdown",
   "id": "dbd6ee14-dcb5-412a-a2ec-ab3fd85c16c9",
   "metadata": {},
   "source": [
    "Разделим выборку на train и test. Обучим модель на train и посмотрим метрику на test"
   ]
  },
  {
   "cell_type": "code",
   "execution_count": 29,
   "id": "91d58c23-6fdd-47f5-a196-341aae0ddbc1",
   "metadata": {},
   "outputs": [],
   "source": [
    "X_train, X_test, y_train, y_test = train_test_split(train.drop(['log_duration'], axis= 1, inplace= False) , train['log_duration'], train_size= 0.8)"
   ]
  },
  {
   "cell_type": "code",
   "execution_count": 30,
   "id": "83c4f58e-519d-46cc-99fd-f2ffb60659b9",
   "metadata": {},
   "outputs": [
    {
     "data": {
      "text/plain": [
       "0.19265568045291973"
      ]
     },
     "execution_count": 30,
     "metadata": {},
     "output_type": "execute_result"
    }
   ],
   "source": [
    "regression = Lasso()\n",
    "param_grid = {'alpha': np.linspace(0.01, 1, 20)}\n",
    "grid_search = GridSearchCV(estimator=regression, param_grid=param_grid, cv=5, scoring='neg_mean_squared_error')\n",
    "grid_search.fit(X_train, y_train)\n",
    "y_pred = grid_search.predict(X_test)\n",
    "mean_squared_error(y_test, y_pred)"
   ]
  },
  {
   "cell_type": "markdown",
   "id": "cf15808c-af50-40c5-923f-6d6d80823122",
   "metadata": {},
   "source": [
    "Делаем обратное преобразование и считаем RMSE"
   ]
  },
  {
   "cell_type": "code",
   "execution_count": 31,
   "id": "fa710dba-5649-427c-b6e8-7287050382c8",
   "metadata": {},
   "outputs": [
    {
     "data": {
      "text/plain": [
       "508.9166896838601"
      ]
     },
     "execution_count": 31,
     "metadata": {},
     "output_type": "execute_result"
    }
   ],
   "source": [
    "mean_squared_error(np.exp(y_test) - 1,\n",
    "                   np.exp(y_pred) - 1\n",
    "                    )**(0.5)"
   ]
  },
  {
   "cell_type": "code",
   "execution_count": null,
   "id": "596a722b-1dcf-4a07-882a-6b06aaf32181",
   "metadata": {},
   "outputs": [],
   "source": []
  },
  {
   "cell_type": "markdown",
   "id": "05ef9db0-f136-4b51-86c9-18f74c0fafc5",
   "metadata": {},
   "source": [
    "Получаем прогнозы для файла test"
   ]
  },
  {
   "cell_type": "markdown",
   "id": "da97ba90-4f43-46bb-89ee-3326e6b37191",
   "metadata": {},
   "source": [
    "Обработаем test по пайплайну выше"
   ]
  },
  {
   "cell_type": "code",
   "execution_count": 32,
   "id": "4805bf17-086a-4f86-b344-586561e4ee09",
   "metadata": {},
   "outputs": [],
   "source": [
    "test_id = test[['id']]"
   ]
  },
  {
   "cell_type": "code",
   "execution_count": 33,
   "id": "a167615d-70a3-4b67-b2d3-22e6ab39781b",
   "metadata": {},
   "outputs": [],
   "source": [
    "test['pickup_datetime'] = pd.to_datetime(test['pickup_datetime'])\n",
    "\n",
    "test.loc[:, 'PickupHour'] = test['pickup_datetime'].dt.hour\n",
    "test.loc[:, 'PickupDay'] = test['pickup_datetime'].dt.weekday\n",
    "test.loc[:, 'PickupMonth'] = test['pickup_datetime'].dt.month\n",
    "test.drop(['pickup_datetime'], axis=1, inplace= True)\n",
    "\n",
    "test['distance'] = test.apply(calculate_distance, axis=1)\n",
    "test['log_distance'] = np.log(test['distance'] + 1)\n",
    "test.drop(['distance'], axis = 1, inplace = True)\n",
    "\n",
    "test.drop(['pickup_longitude',\t'pickup_latitude', 'dropoff_longitude',\t'dropoff_latitude'], axis=1, inplace= True)\n",
    "\n",
    "test['middle_of_week'] = np.where(test['PickupDay'].isin([1, 2, 3, 4]), 1, 0)\n",
    "test['lunch_time'] = np.where(test['PickupHour'].between(8, 18), 1, 0)\n",
    "test['night_time'] = np.where(test['PickupHour'].isin([5, 6, 7]), 1, 0)\n",
    "test['evening_time'] = np.where(test['PickupHour'].isin([19, 20, 21, 22, 23, 0, 1, 2, 3, 4]), 1, 0)\n",
    "test['good_months'] = np.where(test['PickupMonth'].isin([4, 5, 6]), 1, 0)\n",
    "\n",
    "test.drop(['vendor_id', 'passenger_count', 'store_and_fwd_flag','id', 'PickupHour', 'PickupDay', 'PickupMonth' ], axis=1, inplace= True)"
   ]
  },
  {
   "cell_type": "code",
   "execution_count": null,
   "id": "2eb4e6b6-c42b-47b5-8373-c7686ebeb739",
   "metadata": {},
   "outputs": [],
   "source": []
  },
  {
   "cell_type": "markdown",
   "id": "3f97a325-9347-4fb0-bd58-10d8c8163317",
   "metadata": {},
   "source": [
    "Стандартизуем"
   ]
  },
  {
   "cell_type": "code",
   "execution_count": 35,
   "id": "bdf241c2-6267-4d67-a4ed-63dbc1f102e2",
   "metadata": {},
   "outputs": [],
   "source": [
    "test[['log_distance']] = scaler.transform(test[['log_distance']])"
   ]
  },
  {
   "cell_type": "code",
   "execution_count": 36,
   "id": "d9028309-49c8-478f-a5be-37ba0257a8de",
   "metadata": {},
   "outputs": [
    {
     "data": {
      "text/html": [
       "<div>\n",
       "<style scoped>\n",
       "    .dataframe tbody tr th:only-of-type {\n",
       "        vertical-align: middle;\n",
       "    }\n",
       "\n",
       "    .dataframe tbody tr th {\n",
       "        vertical-align: top;\n",
       "    }\n",
       "\n",
       "    .dataframe thead th {\n",
       "        text-align: right;\n",
       "    }\n",
       "</style>\n",
       "<table border=\"1\" class=\"dataframe\">\n",
       "  <thead>\n",
       "    <tr style=\"text-align: right;\">\n",
       "      <th></th>\n",
       "      <th>log_distance</th>\n",
       "      <th>middle_of_week</th>\n",
       "      <th>lunch_time</th>\n",
       "      <th>night_time</th>\n",
       "      <th>evening_time</th>\n",
       "      <th>good_months</th>\n",
       "    </tr>\n",
       "  </thead>\n",
       "  <tbody>\n",
       "    <tr>\n",
       "      <th>0</th>\n",
       "      <td>0.104666</td>\n",
       "      <td>1</td>\n",
       "      <td>0</td>\n",
       "      <td>1</td>\n",
       "      <td>0</td>\n",
       "      <td>1</td>\n",
       "    </tr>\n",
       "    <tr>\n",
       "      <th>1</th>\n",
       "      <td>-0.281781</td>\n",
       "      <td>0</td>\n",
       "      <td>1</td>\n",
       "      <td>0</td>\n",
       "      <td>0</td>\n",
       "      <td>1</td>\n",
       "    </tr>\n",
       "    <tr>\n",
       "      <th>2</th>\n",
       "      <td>-0.615385</td>\n",
       "      <td>0</td>\n",
       "      <td>0</td>\n",
       "      <td>0</td>\n",
       "      <td>1</td>\n",
       "      <td>1</td>\n",
       "    </tr>\n",
       "    <tr>\n",
       "      <th>3</th>\n",
       "      <td>-0.271229</td>\n",
       "      <td>1</td>\n",
       "      <td>1</td>\n",
       "      <td>0</td>\n",
       "      <td>0</td>\n",
       "      <td>1</td>\n",
       "    </tr>\n",
       "    <tr>\n",
       "      <th>4</th>\n",
       "      <td>2.932306</td>\n",
       "      <td>1</td>\n",
       "      <td>1</td>\n",
       "      <td>0</td>\n",
       "      <td>0</td>\n",
       "      <td>1</td>\n",
       "    </tr>\n",
       "    <tr>\n",
       "      <th>...</th>\n",
       "      <td>...</td>\n",
       "      <td>...</td>\n",
       "      <td>...</td>\n",
       "      <td>...</td>\n",
       "      <td>...</td>\n",
       "      <td>...</td>\n",
       "    </tr>\n",
       "    <tr>\n",
       "      <th>437589</th>\n",
       "      <td>-0.165195</td>\n",
       "      <td>1</td>\n",
       "      <td>1</td>\n",
       "      <td>0</td>\n",
       "      <td>0</td>\n",
       "      <td>1</td>\n",
       "    </tr>\n",
       "    <tr>\n",
       "      <th>437590</th>\n",
       "      <td>-0.336756</td>\n",
       "      <td>0</td>\n",
       "      <td>1</td>\n",
       "      <td>0</td>\n",
       "      <td>0</td>\n",
       "      <td>1</td>\n",
       "    </tr>\n",
       "    <tr>\n",
       "      <th>437591</th>\n",
       "      <td>-0.642477</td>\n",
       "      <td>1</td>\n",
       "      <td>0</td>\n",
       "      <td>1</td>\n",
       "      <td>0</td>\n",
       "      <td>1</td>\n",
       "    </tr>\n",
       "    <tr>\n",
       "      <th>437592</th>\n",
       "      <td>0.582380</td>\n",
       "      <td>0</td>\n",
       "      <td>0</td>\n",
       "      <td>0</td>\n",
       "      <td>1</td>\n",
       "      <td>0</td>\n",
       "    </tr>\n",
       "    <tr>\n",
       "      <th>437593</th>\n",
       "      <td>0.159310</td>\n",
       "      <td>1</td>\n",
       "      <td>1</td>\n",
       "      <td>0</td>\n",
       "      <td>0</td>\n",
       "      <td>0</td>\n",
       "    </tr>\n",
       "  </tbody>\n",
       "</table>\n",
       "<p>437594 rows × 6 columns</p>\n",
       "</div>"
      ],
      "text/plain": [
       "        log_distance  middle_of_week  lunch_time  night_time  evening_time  \\\n",
       "0           0.104666               1           0           1             0   \n",
       "1          -0.281781               0           1           0             0   \n",
       "2          -0.615385               0           0           0             1   \n",
       "3          -0.271229               1           1           0             0   \n",
       "4           2.932306               1           1           0             0   \n",
       "...              ...             ...         ...         ...           ...   \n",
       "437589     -0.165195               1           1           0             0   \n",
       "437590     -0.336756               0           1           0             0   \n",
       "437591     -0.642477               1           0           1             0   \n",
       "437592      0.582380               0           0           0             1   \n",
       "437593      0.159310               1           1           0             0   \n",
       "\n",
       "        good_months  \n",
       "0                 1  \n",
       "1                 1  \n",
       "2                 1  \n",
       "3                 1  \n",
       "4                 1  \n",
       "...             ...  \n",
       "437589            1  \n",
       "437590            1  \n",
       "437591            1  \n",
       "437592            0  \n",
       "437593            0  \n",
       "\n",
       "[437594 rows x 6 columns]"
      ]
     },
     "execution_count": 36,
     "metadata": {},
     "output_type": "execute_result"
    }
   ],
   "source": [
    "test"
   ]
  },
  {
   "cell_type": "code",
   "execution_count": null,
   "id": "3c864cb4-b734-42f4-ba90-b560d882892c",
   "metadata": {},
   "outputs": [],
   "source": []
  },
  {
   "cell_type": "markdown",
   "id": "4cf1ec43-1185-4975-8acc-df248375a790",
   "metadata": {},
   "source": [
    "Делаем предсказание, обратное преобразование, формируем submission, записываем его в csv файл."
   ]
  },
  {
   "cell_type": "code",
   "execution_count": 43,
   "id": "0e9306a5-bf7c-4c4f-add4-ecc92297c5fb",
   "metadata": {},
   "outputs": [],
   "source": [
    "test_pred = np.exp(grid_search.predict(test)) - 1 \n",
    "test_id.loc[:,'trip_duration'] = test_pred\n",
    "test_id.to_csv('Bychkov_submission.csv', index= False)"
   ]
  },
  {
   "cell_type": "code",
   "execution_count": 44,
   "id": "c0d2dc19-aee3-45ba-94d1-b45514b83507",
   "metadata": {},
   "outputs": [
    {
     "data": {
      "text/html": [
       "<div>\n",
       "<style scoped>\n",
       "    .dataframe tbody tr th:only-of-type {\n",
       "        vertical-align: middle;\n",
       "    }\n",
       "\n",
       "    .dataframe tbody tr th {\n",
       "        vertical-align: top;\n",
       "    }\n",
       "\n",
       "    .dataframe thead th {\n",
       "        text-align: right;\n",
       "    }\n",
       "</style>\n",
       "<table border=\"1\" class=\"dataframe\">\n",
       "  <thead>\n",
       "    <tr style=\"text-align: right;\">\n",
       "      <th></th>\n",
       "      <th>id</th>\n",
       "      <th>trip_duration</th>\n",
       "    </tr>\n",
       "  </thead>\n",
       "  <tbody>\n",
       "    <tr>\n",
       "      <th>0</th>\n",
       "      <td>id2793718</td>\n",
       "      <td>644.707800</td>\n",
       "    </tr>\n",
       "    <tr>\n",
       "      <th>1</th>\n",
       "      <td>id3485529</td>\n",
       "      <td>578.173743</td>\n",
       "    </tr>\n",
       "    <tr>\n",
       "      <th>2</th>\n",
       "      <td>id1816614</td>\n",
       "      <td>394.147130</td>\n",
       "    </tr>\n",
       "    <tr>\n",
       "      <th>3</th>\n",
       "      <td>id1050851</td>\n",
       "      <td>634.880990</td>\n",
       "    </tr>\n",
       "    <tr>\n",
       "      <th>4</th>\n",
       "      <td>id0140657</td>\n",
       "      <td>3923.802818</td>\n",
       "    </tr>\n",
       "    <tr>\n",
       "      <th>...</th>\n",
       "      <td>...</td>\n",
       "      <td>...</td>\n",
       "    </tr>\n",
       "    <tr>\n",
       "      <th>437589</th>\n",
       "      <td>id2411525</td>\n",
       "      <td>674.365423</td>\n",
       "    </tr>\n",
       "    <tr>\n",
       "      <th>437590</th>\n",
       "      <td>id3782154</td>\n",
       "      <td>560.363569</td>\n",
       "    </tr>\n",
       "    <tr>\n",
       "      <th>437591</th>\n",
       "      <td>id0699942</td>\n",
       "      <td>421.362639</td>\n",
       "    </tr>\n",
       "    <tr>\n",
       "      <th>437592</th>\n",
       "      <td>id3422152</td>\n",
       "      <td>769.091839</td>\n",
       "    </tr>\n",
       "    <tr>\n",
       "      <th>437593</th>\n",
       "      <td>id0792845</td>\n",
       "      <td>800.408226</td>\n",
       "    </tr>\n",
       "  </tbody>\n",
       "</table>\n",
       "<p>437594 rows × 2 columns</p>\n",
       "</div>"
      ],
      "text/plain": [
       "               id  trip_duration\n",
       "0       id2793718     644.707800\n",
       "1       id3485529     578.173743\n",
       "2       id1816614     394.147130\n",
       "3       id1050851     634.880990\n",
       "4       id0140657    3923.802818\n",
       "...           ...            ...\n",
       "437589  id2411525     674.365423\n",
       "437590  id3782154     560.363569\n",
       "437591  id0699942     421.362639\n",
       "437592  id3422152     769.091839\n",
       "437593  id0792845     800.408226\n",
       "\n",
       "[437594 rows x 2 columns]"
      ]
     },
     "execution_count": 44,
     "metadata": {},
     "output_type": "execute_result"
    }
   ],
   "source": [
    "test_id"
   ]
  },
  {
   "cell_type": "code",
   "execution_count": null,
   "id": "afa452ff-a017-4167-b034-486ed3305ffa",
   "metadata": {},
   "outputs": [],
   "source": []
  }
 ],
 "metadata": {
  "kernelspec": {
   "display_name": "Python 3 (ipykernel)",
   "language": "python",
   "name": "python3"
  },
  "language_info": {
   "codemirror_mode": {
    "name": "ipython",
    "version": 3
   },
   "file_extension": ".py",
   "mimetype": "text/x-python",
   "name": "python",
   "nbconvert_exporter": "python",
   "pygments_lexer": "ipython3",
   "version": "3.8.10"
  }
 },
 "nbformat": 4,
 "nbformat_minor": 5
}
